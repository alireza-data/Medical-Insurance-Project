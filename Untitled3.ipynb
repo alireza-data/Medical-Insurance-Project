{
 "cells": [
  {
   "cell_type": "code",
   "execution_count": null,
   "id": "36090b50",
   "metadata": {},
   "outputs": [],
   "source": [
    "names = [\"Mohamed\", \"Sara\", \"Xia\", \"Paul\", \"Valentina\", \"Jide\", \"Aaron\", \"Emily\", \"Nikita\", \"Paul\"]\n",
    "insurance_costs = [13262.0, 4816.0, 6839.0, 5054.0, 14724.0, 5360.0, 7640.0, 6072.0, 2750.0, 12064.0]\n",
    "\n",
    "# Add your code here\n",
    "names.append(\"Priscilla\")\n",
    "insurance_costs.append(8320.0)\n",
    "medical_records = list(zip(insurance_costs, names))\n",
    "print(medical_records)\n",
    "print(\"-----\")\n",
    "num_medical_records = len(medical_records)\n",
    "print(\"There are \" + str(num_medical_records) + \" medical records. \")\n",
    "print(\"-----\")\n",
    "first_medical_record = medical_records[0]\n",
    "print(\"Here is the first medical record: \" + str(first_medical_record))\n",
    "print(\"-----\")\n",
    "medical_records.sort()\n",
    "print(\"Here are the medical records sorted by insurance cost: \" + str(medical_records))\n",
    "print(\"-----\")\n",
    "cheapest_three = medical_records[:3]\n",
    "print(\"Here are the three cheapest insurance costs in our medical records: \" + str(cheapest_three))\n",
    "print(\"-----\")\n",
    "priciest_three = medical_records[:-3]\n",
    "print(\"Here are the three most expensive insurance costs in our medical records: \" + str(priciest_three))\n",
    "print(\"-----\")\n",
    "occurrences_paul= names.count(\"Paul\")\n",
    "print(\"There are \" + str(occurrences_paul) + \" individuals with the name Paul in our medical records. \")"
   ]
  }
 ],
 "metadata": {
  "kernelspec": {
   "display_name": "Python 3 (ipykernel)",
   "language": "python",
   "name": "python3"
  },
  "language_info": {
   "codemirror_mode": {
    "name": "ipython",
    "version": 3
   },
   "file_extension": ".py",
   "mimetype": "text/x-python",
   "name": "python",
   "nbconvert_exporter": "python",
   "pygments_lexer": "ipython3",
   "version": "3.9.12"
  }
 },
 "nbformat": 4,
 "nbformat_minor": 5
}
